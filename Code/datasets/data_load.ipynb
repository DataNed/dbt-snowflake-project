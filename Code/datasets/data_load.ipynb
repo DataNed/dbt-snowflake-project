{
 "cells": [
  {
   "cell_type": "code",
   "execution_count": 18,
   "metadata": {},
   "outputs": [
    {
     "name": "stdout",
     "output_type": "stream",
     "text": [
      "Requirement already satisfied: pandas in c:\\users\\user\\appdata\\local\\packages\\pythonsoftwarefoundation.python.3.11_qbz5n2kfra8p0\\localcache\\local-packages\\python311\\site-packages (2.1.3)Note: you may need to restart the kernel to use updated packages.\n",
      "\n",
      "Requirement already satisfied: numpy<2,>=1.23.2 in c:\\users\\user\\appdata\\local\\packages\\pythonsoftwarefoundation.python.3.11_qbz5n2kfra8p0\\localcache\\local-packages\\python311\\site-packages (from pandas) (1.24.1)\n",
      "Requirement already satisfied: python-dateutil>=2.8.2 in c:\\users\\user\\appdata\\local\\packages\\pythonsoftwarefoundation.python.3.11_qbz5n2kfra8p0\\localcache\\local-packages\\python311\\site-packages (from pandas) (2.8.2)\n",
      "Requirement already satisfied: pytz>=2020.1 in c:\\users\\user\\appdata\\local\\packages\\pythonsoftwarefoundation.python.3.11_qbz5n2kfra8p0\\localcache\\local-packages\\python311\\site-packages (from pandas) (2022.7)\n",
      "Requirement already satisfied: tzdata>=2022.1 in c:\\users\\user\\appdata\\local\\packages\\pythonsoftwarefoundation.python.3.11_qbz5n2kfra8p0\\localcache\\local-packages\\python311\\site-packages (from pandas) (2023.3)\n",
      "Requirement already satisfied: six>=1.5 in c:\\users\\user\\appdata\\local\\packages\\pythonsoftwarefoundation.python.3.11_qbz5n2kfra8p0\\localcache\\local-packages\\python311\\site-packages (from python-dateutil>=2.8.2->pandas) (1.16.0)\n"
     ]
    }
   ],
   "source": [
    "%pip install pandas\n",
    "\n",
    "import pandas as pd"
   ]
  },
  {
   "cell_type": "code",
   "execution_count": 19,
   "metadata": {},
   "outputs": [],
   "source": [
    "# Snowflake connector libraries\n",
    "import snowflake.connector as snow\n",
    "from snowflake.connector.pandas_tools import write_pandas"
   ]
  },
  {
   "cell_type": "code",
   "execution_count": 20,
   "metadata": {},
   "outputs": [],
   "source": [
    "#Module to create the snowflake connection and return the connection objects\n",
    "def create_connection():\n",
    "   conn = snow.connect(\n",
    "      user=\"DATANED\",\n",
    "      password=\"Masusu@0613\",\n",
    "      account=\"sg30560.eu-west-1\",\n",
    "      warehouse='DBT_WAREHOUSE',\n",
    "      database=\"DBT_DB\",\n",
    "      schema=\"DBT_RAW\"\n",
    "      )\n",
    "   cursor = conn.cursor()\n",
    "   print('SQL Connection Created')\n",
    "   return cursor,conn"
   ]
  },
  {
   "cell_type": "code",
   "execution_count": 21,
   "metadata": {},
   "outputs": [],
   "source": [
    "# Module to truncate the table if exists. This will ensure duplicate load doesn't happen\n",
    "def truncate_table():\n",
    "   cur,conn=create_connection()\n",
    "   sql_titles = \"TRUNCATE TABLE IF EXISTS TITLES_RAW\"\n",
    "   sql_credits = \"TRUNCATE TABLE IF EXISTS CREDITS_RAW\"\n",
    "   cur.execute(sql_titles)\n",
    "   cur.execute(sql_credits)\n",
    "   print('Tables truncated')"
   ]
  },
  {
   "cell_type": "code",
   "execution_count": 22,
   "metadata": {},
   "outputs": [
    {
     "name": "stdout",
     "output_type": "stream",
     "text": [
      "Starting Script\n",
      "SQL Connection Created\n",
      "Tables truncated\n",
      "SQL Connection Created\n",
      "Titles file read\n",
      "Credits file read\n"
     ]
    },
    {
     "ename": "MissingDependencyError",
     "evalue": "Missing optional dependency: pandas",
     "output_type": "error",
     "traceback": [
      "\u001b[1;31m---------------------------------------------------------------------------\u001b[0m",
      "\u001b[1;31mMissingDependencyError\u001b[0m                    Traceback (most recent call last)",
      "\u001b[1;32mc:\\Users\\user\\Desktop\\Data Engineering\\dbt Snowflake Project to Master dbt Fundamentals in Snowflake\\Code\\datasets\\data_load.ipynb Cell 5\u001b[0m line \u001b[0;36m2\n\u001b[0;32m     <a href='vscode-notebook-cell:/c%3A/Users/user/Desktop/Data%20Engineering/dbt%20Snowflake%20Project%20to%20Master%20dbt%20Fundamentals%20in%20Snowflake/Code/datasets/data_load.ipynb#W4sZmlsZQ%3D%3D?line=24'>25</a>\u001b[0m \u001b[39mprint\u001b[39m(\u001b[39m\"\u001b[39m\u001b[39mStarting Script\u001b[39m\u001b[39m\"\u001b[39m)\n\u001b[0;32m     <a href='vscode-notebook-cell:/c%3A/Users/user/Desktop/Data%20Engineering/dbt%20Snowflake%20Project%20to%20Master%20dbt%20Fundamentals%20in%20Snowflake/Code/datasets/data_load.ipynb#W4sZmlsZQ%3D%3D?line=25'>26</a>\u001b[0m truncate_table()\n\u001b[1;32m---> <a href='vscode-notebook-cell:/c%3A/Users/user/Desktop/Data%20Engineering/dbt%20Snowflake%20Project%20to%20Master%20dbt%20Fundamentals%20in%20Snowflake/Code/datasets/data_load.ipynb#W4sZmlsZQ%3D%3D?line=26'>27</a>\u001b[0m load_data()\n",
      "\u001b[1;32mc:\\Users\\user\\Desktop\\Data Engineering\\dbt Snowflake Project to Master dbt Fundamentals in Snowflake\\Code\\datasets\\data_load.ipynb Cell 5\u001b[0m line \u001b[0;36m1\n\u001b[0;32m     <a href='vscode-notebook-cell:/c%3A/Users/user/Desktop/Data%20Engineering/dbt%20Snowflake%20Project%20to%20Master%20dbt%20Fundamentals%20in%20Snowflake/Code/datasets/data_load.ipynb#W4sZmlsZQ%3D%3D?line=10'>11</a>\u001b[0m credits_df \u001b[39m=\u001b[39m pd\u001b[39m.\u001b[39mread_csv(credits_file, sep \u001b[39m=\u001b[39m titles_delimiter)\n\u001b[0;32m     <a href='vscode-notebook-cell:/c%3A/Users/user/Desktop/Data%20Engineering/dbt%20Snowflake%20Project%20to%20Master%20dbt%20Fundamentals%20in%20Snowflake/Code/datasets/data_load.ipynb#W4sZmlsZQ%3D%3D?line=11'>12</a>\u001b[0m \u001b[39mprint\u001b[39m(\u001b[39m\"\u001b[39m\u001b[39mCredits file read\u001b[39m\u001b[39m\"\u001b[39m)\n\u001b[1;32m---> <a href='vscode-notebook-cell:/c%3A/Users/user/Desktop/Data%20Engineering/dbt%20Snowflake%20Project%20to%20Master%20dbt%20Fundamentals%20in%20Snowflake/Code/datasets/data_load.ipynb#W4sZmlsZQ%3D%3D?line=13'>14</a>\u001b[0m write_pandas(conn, titles_df, \u001b[39m\"\u001b[39;49m\u001b[39mTITLES\u001b[39;49m\u001b[39m\"\u001b[39;49m,auto_create_table\u001b[39m=\u001b[39;49m\u001b[39mTrue\u001b[39;49;00m)\n\u001b[0;32m     <a href='vscode-notebook-cell:/c%3A/Users/user/Desktop/Data%20Engineering/dbt%20Snowflake%20Project%20to%20Master%20dbt%20Fundamentals%20in%20Snowflake/Code/datasets/data_load.ipynb#W4sZmlsZQ%3D%3D?line=14'>15</a>\u001b[0m \u001b[39mprint\u001b[39m(\u001b[39m'\u001b[39m\u001b[39mTitles file loaded\u001b[39m\u001b[39m'\u001b[39m)\n\u001b[0;32m     <a href='vscode-notebook-cell:/c%3A/Users/user/Desktop/Data%20Engineering/dbt%20Snowflake%20Project%20to%20Master%20dbt%20Fundamentals%20in%20Snowflake/Code/datasets/data_load.ipynb#W4sZmlsZQ%3D%3D?line=15'>16</a>\u001b[0m write_pandas(conn, credits_df, \u001b[39m\"\u001b[39m\u001b[39mCREDITS\u001b[39m\u001b[39m\"\u001b[39m,auto_create_table\u001b[39m=\u001b[39m\u001b[39mTrue\u001b[39;00m)\n",
      "File \u001b[1;32m~\\AppData\\Local\\Packages\\PythonSoftwareFoundation.Python.3.11_qbz5n2kfra8p0\\LocalCache\\local-packages\\Python311\\site-packages\\snowflake\\connector\\pandas_tools.py:285\u001b[0m, in \u001b[0;36mwrite_pandas\u001b[1;34m(conn, df, table_name, database, schema, chunk_size, compression, on_error, parallel, quote_identifiers, auto_create_table, create_temp_table, overwrite, table_type, use_logical_type, **kwargs)\u001b[0m\n\u001b[0;32m    281\u001b[0m \u001b[39mif\u001b[39;00m chunk_size \u001b[39mis\u001b[39;00m \u001b[39mNone\u001b[39;00m:\n\u001b[0;32m    282\u001b[0m     chunk_size \u001b[39m=\u001b[39m \u001b[39mlen\u001b[39m(df)\n\u001b[0;32m    284\u001b[0m \u001b[39mif\u001b[39;00m \u001b[39mnot\u001b[39;00m (\n\u001b[1;32m--> 285\u001b[0m     \u001b[39misinstance\u001b[39m(df\u001b[39m.\u001b[39mindex, pandas\u001b[39m.\u001b[39;49mRangeIndex)\n\u001b[0;32m    286\u001b[0m     \u001b[39mand\u001b[39;00m \u001b[39m1\u001b[39m \u001b[39m==\u001b[39m df\u001b[39m.\u001b[39mindex\u001b[39m.\u001b[39mstep\n\u001b[0;32m    287\u001b[0m     \u001b[39mand\u001b[39;00m \u001b[39m0\u001b[39m \u001b[39m==\u001b[39m df\u001b[39m.\u001b[39mindex\u001b[39m.\u001b[39mstart\n\u001b[0;32m    288\u001b[0m ):\n\u001b[0;32m    289\u001b[0m     warnings\u001b[39m.\u001b[39mwarn(\n\u001b[0;32m    290\u001b[0m         \u001b[39mf\u001b[39m\u001b[39m\"\u001b[39m\u001b[39mPandas Dataframe has non-standard index of type \u001b[39m\u001b[39m{\u001b[39;00m\u001b[39mstr\u001b[39m(\u001b[39mtype\u001b[39m(df\u001b[39m.\u001b[39mindex))\u001b[39m}\u001b[39;00m\u001b[39m which will not be written.\u001b[39m\u001b[39m\"\u001b[39m\n\u001b[0;32m    291\u001b[0m         \u001b[39mf\u001b[39m\u001b[39m\"\u001b[39m\u001b[39m Consider changing the index to pd.RangeIndex(start=0,...,step=1) or \u001b[39m\u001b[39m\"\u001b[39m\n\u001b[1;32m   (...)\u001b[0m\n\u001b[0;32m    294\u001b[0m         stacklevel\u001b[39m=\u001b[39m\u001b[39m2\u001b[39m,\n\u001b[0;32m    295\u001b[0m     )\n\u001b[0;32m    297\u001b[0m \u001b[39m# use_logical_type should be True when dataframe contains datetimes with timezone.\u001b[39;00m\n\u001b[0;32m    298\u001b[0m \u001b[39m# https://github.com/snowflakedb/snowflake-connector-python/issues/1687\u001b[39;00m\n",
      "File \u001b[1;32m~\\AppData\\Local\\Packages\\PythonSoftwareFoundation.Python.3.11_qbz5n2kfra8p0\\LocalCache\\local-packages\\Python311\\site-packages\\snowflake\\connector\\options.py:39\u001b[0m, in \u001b[0;36mMissingOptionalDependency.__getattr__\u001b[1;34m(self, item)\u001b[0m\n\u001b[0;32m     38\u001b[0m \u001b[39mdef\u001b[39;00m \u001b[39m__getattr__\u001b[39m(\u001b[39mself\u001b[39m, item):\n\u001b[1;32m---> 39\u001b[0m     \u001b[39mraise\u001b[39;00m errors\u001b[39m.\u001b[39mMissingDependencyError(\u001b[39mself\u001b[39m\u001b[39m.\u001b[39m_dep_name)\n",
      "\u001b[1;31mMissingDependencyError\u001b[0m: Missing optional dependency: pandas"
     ]
    }
   ],
   "source": [
    "#Module to read csv file and load data in Snowflake. Table is created dynamically\n",
    "def load_data():\n",
    "   cur,conn=create_connection()\n",
    "   titles_file = r\"C:\\Users\\user\\Desktop\\Data Engineering\\dbt Snowflake Project to Master dbt Fundamentals in Snowflake\\Code\\datasets\\Netflix_Dataset\\titles.csv\" # <- Replace with your path.\n",
    "   titles_delimiter = \",\" # Replace if you're using a different delimiter.\n",
    "   credits_file= r\"C:\\Users\\user\\Desktop\\Data Engineering\\dbt Snowflake Project to Master dbt Fundamentals in Snowflake\\Code\\datasets\\Netflix_Dataset\\credits.csv\"\n",
    "   credits_delimiter=\",\"\n",
    "\n",
    "   titles_df = pd.read_csv(titles_file, sep = titles_delimiter)\n",
    "   print(\"Titles file read\")\n",
    "   credits_df = pd.read_csv(credits_file, sep = titles_delimiter)\n",
    "   print(\"Credits file read\")\n",
    "\n",
    "   write_pandas(conn, titles_df, \"TITLES\",auto_create_table=True)\n",
    "   print('Titles file loaded')\n",
    "   write_pandas(conn, credits_df, \"CREDITS\",auto_create_table=True)\n",
    "   print('Credits file loaded')\n",
    "\n",
    "   cur = conn.cursor()\n",
    "   \n",
    "      # Close your cursor and your connection.\n",
    "   cur.close()\n",
    "   conn.close()\n",
    "\n",
    "print(\"Starting Script\")\n",
    "truncate_table()\n",
    "load_data()"
   ]
  },
  {
   "cell_type": "code",
   "execution_count": null,
   "metadata": {},
   "outputs": [],
   "source": [
    "# Assuming this is somewhere in your notebook\n",
    "import snowflake.connector as snow\n",
    "\n",
    "# Create a connection\n",
    "conn = snow.connect(user=\"your_user\", password=\"your_password\", account=\"your_account\")\n",
    "\n",
    "# Create a cursor\n",
    "cur = conn.cursor()\n",
    "\n",
    "# ... perform some operations with the cursor ...\n",
    "\n",
    "# Close the cursor and the connection\n",
    "cur.close()\n",
    "conn.close()\n"
   ]
  }
 ],
 "metadata": {
  "kernelspec": {
   "display_name": "Python 3",
   "language": "python",
   "name": "python3"
  },
  "language_info": {
   "codemirror_mode": {
    "name": "ipython",
    "version": 3
   },
   "file_extension": ".py",
   "mimetype": "text/x-python",
   "name": "python",
   "nbconvert_exporter": "python",
   "pygments_lexer": "ipython3",
   "version": "3.11.6"
  }
 },
 "nbformat": 4,
 "nbformat_minor": 2
}
